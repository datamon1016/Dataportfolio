{
 "cells": [
  {
   "cell_type": "code",
   "execution_count": 5,
   "id": "0cc44d9d-3260-4169-a728-b0ed5c215763",
   "metadata": {},
   "outputs": [],
   "source": [
    "from bs4 import BeautifulSoup\n",
    "import requests\n",
    "import time\n",
    "import datetime\n",
    "\n",
    "import smtplib"
   ]
  },
  {
   "cell_type": "code",
   "execution_count": null,
   "id": "0613972f-389b-4ffa-82b5-c1b615ad4171",
   "metadata": {},
   "outputs": [
    {
     "name": "stdout",
     "output_type": "stream",
     "text": [
      "\n",
      "            1979 Vintage Rolex Submariner 1680\n",
      "           \n",
      "\n",
      "                 $18,250\n",
      "                \n"
     ]
    }
   ],
   "source": [
    "URL = 'https://hqmilton.com/products/1979-vintage-rolex-submariner-1680'\n",
    "headers =  {\"User-Agent\": \"Mozilla/5.0 (Windows NT 10.0; Win64; x64) AppleWebKit/537.36 (KHTML, like Gecko) Chrome/101.0.4951.67 Safari/537.36\"}\n",
    "\n",
    "page = requests.get(URL, headers=headers)\n",
    "\n",
    "soup1 = BeautifulSoup(page.content, \"html.parser\")\n",
    "\n",
    "\n",
    "soup2 = BeautifulSoup(soup1.prettify(), \"html.parser\")\n",
    "\n",
    "price = soup2.find('span', {'class':'price-item price-item--regular'}).get_text()\n",
    "title = soup2.find('h1', {'class':'product__title'}).get_text()\n",
    "\n",
    "\n",
    "print(title)\n",
    "print(price)\n",
    "\n",
    "\n"
   ]
  },
  {
   "cell_type": "code",
   "execution_count": null,
   "id": "3039b444-715f-487f-aed6-6b0260839471",
   "metadata": {},
   "outputs": [],
   "source": [
    "title = title.strip()\n",
    "print(title)\n",
    "\n",
    "\n",
    "price = price.strip()[1:]\n",
    "print(price)\n"
   ]
  },
  {
   "cell_type": "code",
   "execution_count": null,
   "id": "041019da-bd20-4cff-88d7-65c41c3857c0",
   "metadata": {},
   "outputs": [],
   "source": [
    "import datetime\n",
    "today = datetime.date.today()\n",
    "print(today)"
   ]
  },
  {
   "cell_type": "code",
   "execution_count": 17,
   "id": "3ed0d815-374c-4fc0-a785-c348b59f1403",
   "metadata": {},
   "outputs": [],
   "source": [
    "import csv\n",
    "\n",
    "header = ['Title', 'Price', 'Date']\n",
    "data = [title, price, today]\n",
    "\n",
    "with open('VintageRolexPrices.csv', 'w', newline='', encoding='UTF8') as f:\n",
    "    writer = csv.writer(f)\n",
    "    writer.writerow(header)\n",
    "    writer.writerow(data)\n",
    "    "
   ]
  },
  {
   "cell_type": "code",
   "execution_count": 27,
   "id": "a1ede743-bece-418b-91e4-2f444812a0a2",
   "metadata": {},
   "outputs": [],
   "source": [
    "with open('VintageRolexPrices.csv', 'a+', newline='', encoding='UTF8') as f:\n",
    "    writer = csv.writer(f)\n",
    "    \n",
    "    writer.writerow(data)"
   ]
  },
  {
   "cell_type": "code",
   "execution_count": null,
   "id": "62cbbfd3-b94d-43ff-8bf7-fe13cff8620e",
   "metadata": {},
   "outputs": [],
   "source": [
    "import pandas as pd \n",
    "df = pd.read_csv(r'C:\\Users\\jonahmt\\VintageRolexPrices.csv')\n",
    "print(df)"
   ]
  },
  {
   "cell_type": "code",
   "execution_count": null,
   "id": "da45b2a1-a25a-4491-88cb-c259e31f6eaf",
   "metadata": {},
   "outputs": [],
   "source": [
    "# Combining all the above to get a working function\n",
    "def check_price():\n",
    "    \n",
    "    URL = 'https://hqmilton.com/products/1979-vintage-rolex-submariner-1680'\n",
    "    \n",
    "    headers =  {\"User-Agent\": \"Mozilla/5.0 (Windows NT 10.0; Win64; x64) AppleWebKit/537.36 (KHTML, like Gecko) Chrome/101.0.4951.67 Safari/537.36\"}\n",
    "    page = requests.get(URL, headers=headers)\n",
    "\n",
    "    soup1 = BeautifulSoup(page.content, \"html.parser\")\n",
    "\n",
    "    soup2 = BeautifulSoup(soup1.prettify(), \"html.parser\")\n",
    "\n",
    "    price = soup2.find('span', {'class':'price-item price-item--regular'}).get_text()\n",
    "    title = soup2.find('h1', {'class':'product__title'}).get_text()\n",
    "    \n",
    "    title = title.strip()\n",
    "    price = price.strip()[1:]\n",
    "    \n",
    "    import datetime\n",
    "    today = datetime.date.today()\n",
    "    \n",
    "    import csv\n",
    "\n",
    "    header = ['Title', 'Price', 'Date']\n",
    "    data = [title, price, today]\n",
    "    \n",
    "    with open('VintageRolexPrices.csv', 'a+', newline='', encoding='UTF8') as f:\n",
    "        writer = csv.writer(f)\n",
    "        writer.writerow(data)\n",
    "    \n",
    "    \n"
   ]
  },
  {
   "cell_type": "code",
   "execution_count": null,
   "id": "b0090c05-cd3a-4a65-aa16-cbe5e8bfb158",
   "metadata": {},
   "outputs": [],
   "source": [
    "#Inserting a timer to check prices every month\n",
    "while(True):\n",
    "    check_price()\n",
    "    time.sleep(43800)\n",
    "    \n"
   ]
  },
  {
   "cell_type": "code",
   "execution_count": null,
   "id": "1348d6b9-c70e-4300-93ca-b7ebf2c8f181",
   "metadata": {},
   "outputs": [],
   "source": []
  }
 ],
 "metadata": {
  "kernelspec": {
   "display_name": "Python 3 (ipykernel)",
   "language": "python",
   "name": "python3"
  },
  "language_info": {
   "codemirror_mode": {
    "name": "ipython",
    "version": 3
   },
   "file_extension": ".py",
   "mimetype": "text/x-python",
   "name": "python",
   "nbconvert_exporter": "python",
   "pygments_lexer": "ipython3",
   "version": "3.10.0"
  }
 },
 "nbformat": 4,
 "nbformat_minor": 5
}
